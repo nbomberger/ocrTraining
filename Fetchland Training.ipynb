{
 "cells": [
  {
   "cell_type": "markdown",
   "metadata": {},
   "source": [
    "# Training Fetchland\n",
    "\n",
    "## Setup"
   ]
  },
  {
   "cell_type": "markdown",
   "metadata": {},
   "source": [
    "We need system utilities to load files, and make system calls:"
   ]
  },
  {
   "cell_type": "code",
   "execution_count": 1,
   "metadata": {},
   "outputs": [],
   "source": [
    "import os\n",
    "import sys\n",
    "import subprocess"
   ]
  },
  {
   "cell_type": "markdown",
   "metadata": {},
   "source": [
    "[numby](http://www.numpy.org/) - scientific computing package for Python"
   ]
  },
  {
   "cell_type": "code",
   "execution_count": 2,
   "metadata": {},
   "outputs": [],
   "source": [
    "import numpy"
   ]
  },
  {
   "cell_type": "markdown",
   "metadata": {},
   "source": [
    "[fontconfig](https://pypi.python.org/pypi/Python-fontconfig/0.5.0): Fontconfig is a library for configuring and customizing font access.  This is the python wrapper around the [Fontconfig](https://www.freedesktop.org/wiki/Software/fontconfig/) library.\n",
    "\n"
   ]
  },
  {
   "cell_type": "code",
   "execution_count": 3,
   "metadata": {},
   "outputs": [],
   "source": [
    "import fontconfig"
   ]
  },
  {
   "cell_type": "markdown",
   "metadata": {},
   "source": [
    "This is how we are making system calls (if needed):"
   ]
  },
  {
   "cell_type": "code",
   "execution_count": 4,
   "metadata": {},
   "outputs": [],
   "source": [
    "from subprocess import call"
   ]
  },
  {
   "cell_type": "markdown",
   "metadata": {},
   "source": [
    "[functools](https://docs.python.org/2/library/functools.html) is useful to make decorators:"
   ]
  },
  {
   "cell_type": "code",
   "execution_count": 5,
   "metadata": {},
   "outputs": [],
   "source": [
    "import functools\n",
    "from functools import partial"
   ]
  },
  {
   "cell_type": "markdown",
   "metadata": {},
   "source": [
    "[fonttools](https://github.com/fonttools/fonttools): A library to manipulate font files from Python"
   ]
  },
  {
   "cell_type": "code",
   "execution_count": 6,
   "metadata": {},
   "outputs": [],
   "source": [
    "from fontTools.ttLib import TTFont"
   ]
  },
  {
   "cell_type": "markdown",
   "metadata": {},
   "source": [
    "[Pillow](http://pillow.readthedocs.io/en/4.2.x/index.html): Image processing\n",
    "* `Image` - create, update, read, save, convert Image files\n",
    "* `ImageDraw` - used to generate text\n",
    "* `ImageFont` - loads our fonts so we can use them to generte text on our images"
   ]
  },
  {
   "cell_type": "code",
   "execution_count": 7,
   "metadata": {},
   "outputs": [],
   "source": [
    "from PIL import Image, ImageDraw, ImageFont, ImageEnhance, ImageFilter\n",
    "filter_dict = {}"
   ]
  },
  {
   "cell_type": "code",
   "execution_count": 8,
   "metadata": {},
   "outputs": [
    {
     "ename": "ImportError",
     "evalue": "No module named enhancement_props",
     "output_type": "error",
     "traceback": [
      "\u001b[0;31m---------------------------------------------------------------------------\u001b[0m",
      "\u001b[0;31mImportError\u001b[0m                               Traceback (most recent call last)",
      "\u001b[0;32m<ipython-input-8-99aacfc22c93>\u001b[0m in \u001b[0;36m<module>\u001b[0;34m()\u001b[0m\n\u001b[0;32m----> 1\u001b[0;31m \u001b[0;32mfrom\u001b[0m \u001b[0mimageprocessing\u001b[0m \u001b[0;32mimport\u001b[0m \u001b[0mFontProps\u001b[0m\u001b[0;34m,\u001b[0m \u001b[0mImageProps\u001b[0m\u001b[0;34m\u001b[0m\u001b[0m\n\u001b[0m\u001b[1;32m      2\u001b[0m \u001b[0;32mfrom\u001b[0m \u001b[0mimageprocessing\u001b[0m\u001b[0;34m.\u001b[0m\u001b[0mimage_generator\u001b[0m \u001b[0;32mimport\u001b[0m \u001b[0mImageGenerator\u001b[0m\u001b[0;34m\u001b[0m\u001b[0m\n",
      "\u001b[0;32m/Users/nbomberger/miniconda3/envs/ocrTraining/imageprocessing/imageprocessing/__init__.py\u001b[0m in \u001b[0;36m<module>\u001b[0;34m()\u001b[0m\n\u001b[1;32m      2\u001b[0m \u001b[0;31m# disable line too long linter message\u001b[0m\u001b[0;34m\u001b[0m\u001b[0;34m\u001b[0m\u001b[0m\n\u001b[1;32m      3\u001b[0m \u001b[0;31m#pylint: disable=C0301\u001b[0m\u001b[0;34m\u001b[0m\u001b[0;34m\u001b[0m\u001b[0m\n\u001b[0;32m----> 4\u001b[0;31m \u001b[0;32mfrom\u001b[0m \u001b[0mimageprocessing\u001b[0m\u001b[0;34m.\u001b[0m\u001b[0menhancement_props\u001b[0m \u001b[0;32mimport\u001b[0m \u001b[0mEnhancementProps\u001b[0m\u001b[0;34m\u001b[0m\u001b[0m\n\u001b[0m\u001b[1;32m      5\u001b[0m \u001b[0;32mfrom\u001b[0m \u001b[0mimageprocessing\u001b[0m\u001b[0;34m.\u001b[0m\u001b[0mfont_props\u001b[0m \u001b[0;32mimport\u001b[0m \u001b[0mFontProps\u001b[0m\u001b[0;34m\u001b[0m\u001b[0m\n\u001b[1;32m      6\u001b[0m \u001b[0;32mfrom\u001b[0m \u001b[0mimageprocessing\u001b[0m\u001b[0;34m.\u001b[0m\u001b[0mcontent_props\u001b[0m \u001b[0;32mimport\u001b[0m \u001b[0mContentProps\u001b[0m\u001b[0;34m\u001b[0m\u001b[0m\n",
      "\u001b[0;31mImportError\u001b[0m: No module named enhancement_props"
     ]
    }
   ],
   "source": [
    "from imageprocessing import FontProps, ImageProps\n",
    "from imageprocessing.image_generator import ImageGenerator"
   ]
  },
  {
   "cell_type": "markdown",
   "metadata": {},
   "source": [
    "## Validation"
   ]
  },
  {
   "cell_type": "markdown",
   "metadata": {},
   "source": [
    "### Error Handling"
   ]
  },
  {
   "cell_type": "code",
   "execution_count": null,
   "metadata": {},
   "outputs": [],
   "source": [
    "def ordinal(num):\n",
    "    '''\n",
    "    Returns the ordinal number of a given integer, as a string.\n",
    "    eg. 1 -> 1st, 2 -> 2nd, 3 -> 3rd, etc.\n",
    "    '''\n",
    "    if 10 <= num % 100 < 20:\n",
    "        return '{0}th'.format(num)\n",
    "    else:\n",
    "        ord = {1 : 'st', 2 : 'nd', 3 : 'rd'}.get(num % 10, 'th')\n",
    "        return '{0}{1}'.format(num, ord)"
   ]
  },
  {
   "cell_type": "code",
   "execution_count": null,
   "metadata": {},
   "outputs": [],
   "source": [
    "class ArgumentValidationError(ValueError):\n",
    "    '''\n",
    "    Raised when the type of an argument to a function is not what it should be.\n",
    "    '''\n",
    "    def __init__(self, arg_num, func_name, accepted_arg_type):\n",
    "        self.error = 'The {0} argument of {1}() is not a {2}'.format(arg_num,\n",
    "                                                                     func_name,\n",
    "                                                                     accepted_arg_type)\n",
    " \n",
    "    def __str__(self):\n",
    "        return self.error\n",
    "\n",
    "class InvalidArgumentNumberError(ValueError):\n",
    "    '''\n",
    "    Raised when the number of arguments supplied to a function is incorrect.\n",
    "    Note that this check is only performed from the number of arguments\n",
    "    specified in the validate_accept() decorator. If the validate_accept()\n",
    "    call is incorrect, it is possible to have a valid function where this\n",
    "    will report a false validation.\n",
    "    '''\n",
    "    def __init__(self, func_name):\n",
    "        self.error = 'Invalid number of arguments for {0}()'.format(func_name)\n",
    " \n",
    "    def __str__(self):\n",
    "        return self.error\n",
    "\n",
    "class InvalidReturnType(ValueError):\n",
    "    '''\n",
    "    As the name implies, the return value is the wrong type.\n",
    "    '''\n",
    "    def __init__(self, return_type, func_name):\n",
    "        self.error = 'Invalid return type {0} for {1}()'.format(return_type,\n",
    "                                                                func_name)\n",
    " \n",
    "    def __str__(self):\n",
    "        return self.error\n"
   ]
  },
  {
   "cell_type": "markdown",
   "metadata": {},
   "source": [
    "### Decorators"
   ]
  },
  {
   "cell_type": "code",
   "execution_count": null,
   "metadata": {},
   "outputs": [],
   "source": [
    "def accepts(*accepted_arg_types):\n",
    "    '''\n",
    "    A decorator to validate the parameter types of a given function.\n",
    "    It is passed a tuple of types. eg. (<type 'tuple'>, <type 'int'>)\n",
    " \n",
    "    Note: It doesn't do a deep check, for example checking through a\n",
    "          tuple of types. The argument passed must only be types.\n",
    "    '''\n",
    " \n",
    "    def accept_decorator(validate_function):\n",
    "        # Check if the number of arguments to the validator\n",
    "        # function is the same as the arguments provided\n",
    "        # to the actual function to validate. We don't need\n",
    "        # to check if the function to validate has the right\n",
    "        # amount of arguments, as Python will do this\n",
    "        # automatically (also with a TypeError).\n",
    "        functools.wraps(validate_function)\n",
    "        def decorator_wrapper(*function_args, **function_args_dict):\n",
    "            if len(accepted_arg_types) is not len(accepted_arg_types):\n",
    "                raise InvalidArgumentNumberError(validate_function.__name__)\n",
    " \n",
    "            # We're using enumerate to get the index, so we can pass the\n",
    "            # argument number with the incorrect type to ArgumentValidationError.\n",
    "            for arg_num, (actual_arg, accepted_arg_type) in enumerate(zip(function_args, accepted_arg_types)):\n",
    "                if not type(actual_arg) is accepted_arg_type:\n",
    "                    print(actual_arg, accepted_arg_types)\n",
    "                    ord_num = ordinal(arg_num + 1)\n",
    "                    raise ArgumentValidationError(ord_num,\n",
    "                                                  validate_function.__name__,\n",
    "                                                  accepted_arg_type)\n",
    " \n",
    "            return validate_function(*function_args)\n",
    "        return decorator_wrapper\n",
    "    return accept_decorator"
   ]
  },
  {
   "cell_type": "code",
   "execution_count": null,
   "metadata": {},
   "outputs": [],
   "source": [
    "def returns(*accepted_return_type_tuple):\n",
    "    '''\n",
    "    Validates the return type. Since there's only ever one\n",
    "    return type, this makes life simpler. Along with the\n",
    "    accepts() decorator, this also only does a check for\n",
    "    the top argument. For example you couldn't check\n",
    "    (<type 'tuple'>, <type 'int'>, <type 'str'>).\n",
    "    In that case you could only check if it was a tuple.\n",
    "    '''\n",
    "    def return_decorator(validate_function):\n",
    "        # No return type has been specified.\n",
    "        if len(accepted_return_type_tuple) == 0:\n",
    "            raise TypeError('You must specify a return type.')\n",
    " \n",
    "    \tfunctools.wraps(validate_function)\n",
    "        def decorator_wrapper(*function_args):\n",
    "            # More than one return type has been specified.\n",
    "            if len(accepted_return_type_tuple) > 1:\n",
    "                raise TypeError('You must specify one return type.')\n",
    " \n",
    "            # Since the decorator receives a tuple of arguments\n",
    "            # and the is only ever one object returned, we'll just\n",
    "            # grab the first parameter.\n",
    "            accepted_return_type = accepted_return_type_tuple[0]\n",
    " \n",
    "            # We'll execute the function, and\n",
    "            # take a look at the return type.\n",
    "            return_value = validate_function(*function_args)\n",
    "            return_value_type = type(return_value)\n",
    " \n",
    "            if return_value_type is not accepted_return_type:\n",
    "                raise InvalidReturnType(return_value_type,\n",
    "                                        validate_function.__name__) \n",
    " \n",
    "            return return_value\n",
    " \n",
    "        return decorator_wrapper\n",
    "    return return_decorator"
   ]
  },
  {
   "cell_type": "markdown",
   "metadata": {},
   "source": [
    "`ImageGenerator` is a convenience class that provides management and support for\n",
    "generating data set images."
   ]
  },
  {
   "cell_type": "code",
   "execution_count": null,
   "metadata": {},
   "outputs": [],
   "source": [
    "class ImageGenerator(object): \n",
    "    \"\"\"A custom convenience class to support generating image datasets for use with Pillow\"\"\"\n",
    "    def __init__(self, text='A', klass=0, image_id=0, image_props=None, image=None, output_dir='data', filename='UNAMED.png'):\n",
    "        self._text = text\n",
    "        self._klass = klass\n",
    "        self._image_id = image_id\n",
    "        self._image = image\n",
    "        self._image_props = image_props\n",
    "        self._output_dir = output_dir\n",
    "        self._filename = 'UNAMED.png'\n",
    "        self._saved = False\n",
    "        \n",
    "    def __eq__(self, other):\n",
    "        \"\"\"Overrides the default implementation\"\"\"\n",
    "        if isinstance(self, other.__class__):\n",
    "            return self.__dict__ == other.__dict__\n",
    "        return False\n",
    "\n",
    "    def __ne__(self, other):\n",
    "        \"\"\"Overrides the default implementation (unnecessary in Python 3)\"\"\"\n",
    "        return not self.__eq__(other)\n",
    "    \n",
    "    @property\n",
    "    def text(self):\n",
    "        \"\"\"The text to be rendered on the image. Probably should be a letter\"\"\"\n",
    "        return self._text\n",
    "    \n",
    "    @property\n",
    "    def filename(self):\n",
    "        \"\"\"The name of the file. This will initialize \n",
    "        a new ImageProps object to use its default properties, \n",
    "        and provide a default file name `original` suffix.\n",
    "        \"\"\"\n",
    "        if not self._image_props:\n",
    "            self._image_props = ImageProps()\n",
    "\n",
    "        self._filename = \"%s-%s-%s\" % (self._klass, self._image_id, self._image_props.name)\n",
    "        if (self._filename == \"0-0-original\"):\n",
    "            print(\"This is the first image in the series! [0-0-original]\")\n",
    "        return self._filename\n",
    "    \n",
    "    @property\n",
    "    def output_dir(self):\n",
    "        \"\"\"The output directory where the generated images\n",
    "        will be stored. Used in the saving and naming of the file.\n",
    "        \"\"\"\n",
    "        return self._output_dir\n",
    "    \n",
    "    @property\n",
    "    def klass(self):\n",
    "        \"\"\"Class identifier used to map to a specific character.\n",
    "        'A' should always be 0. Used in the naming of the file.\"\"\"\n",
    "        return self._klass\n",
    "    \n",
    "    @property\n",
    "    def image_props(self):\n",
    "        \"\"\"Image id - should be incremented for each image generated. Used\n",
    "        in the naming of the file.\"\"\"\n",
    "        return self._image_props\n",
    "    \n",
    "    @image_props.setter\n",
    "    def image_props(self, value):\n",
    "        \"\"\"ImageProps object.  This object must be of type ImageProps\"\"\"\n",
    "        if not isinstance(value, ImageProps):\n",
    "            raise TypeError(\"'image_props' must be a type of ImageProps\")\n",
    "        \n",
    "        if (value == self._image_props):\n",
    "            raise ValueError(\"Incoming image_props is identical to current! Are you sure you want that to happen?\")\n",
    "        \n",
    "        if self._saved:\n",
    "            self._saved = False\n",
    "            \n",
    "        self._image_props = value\n",
    "\n",
    "    @property\n",
    "    def image_id(self):\n",
    "        \"\"\"Image id - should be incremented for each image generated. Used\n",
    "        in the naming of the file.\"\"\"\n",
    "        return self._image_id\n",
    "    \n",
    "    @property\n",
    "    def image(self):\n",
    "        \"\"\"Returns the test object image.  `image` is \n",
    "        of type Pil.Image\"\"\"\n",
    "        img = Image.new()\n",
    "        return self._image\n",
    "    \n",
    "    @image.setter\n",
    "    def image(self, value):\n",
    "        \"\"\"Sets the image to be used.  This should normally be set\n",
    "        during initialization, but this is here for convenience. The\n",
    "        value must be an instance of PIL.Image.\"\"\"\n",
    "        if not isinstance(value, Image):\n",
    "            raise TypeError(\"Image must be of type PIL.Image\")\n",
    "        self._image = value\n",
    "        \n",
    "    @property\n",
    "    def saved(self):\n",
    "        \"\"\"Convenience value to prevent images being saved twice.\"\"\"\n",
    "        return self._saved\n",
    "    \n",
    "    @accepts(list, list)\n",
    "    def process_characters(characters=[], fonts=[FontProps]):\n",
    "        \"\"\"Takes a list of characters, generates the data set\"\"\"\n",
    "        #\n",
    "        # Cycle through fonts\n",
    "        #\n",
    "        print(characters)\n",
    "        fonts = fonts\n",
    "        for font in fonts:\n",
    "            #\n",
    "            # Cycle through upper case characters\n",
    "            # and set the cls to 0\n",
    "            #\n",
    "            cls = 0\n",
    "            for val in test_characters:\n",
    "                try:\n",
    "                    # Generate initial image - no rotation\n",
    "                    orig = generate_image(str(val), unicode(str(font)), cls, idx, 'orig', 0, 'data', '#FFFFFF')\n",
    "                    # Generate 7 images\n",
    "                    deg = 45;\n",
    "                    for i in range(7):\n",
    "                        generateRotatedImage(orig, cls, idx, deg)\n",
    "                        deg = 45 + (45 * (i + 1))\n",
    "                \n",
    "                    generateFilteredGuassianBlurImage(orig, cls, idx)\n",
    "                    generateEnhancedColorImage(orig, cls, idx)\n",
    "                    generateEhancedContrastedImage(orig, cls, idx)\n",
    "\n",
    "\n",
    "#             generate_image(str(val), unicode(str(font)), cls, idx, 'dark', 270, 'data','#000000')\n",
    "                    cls += 1\n",
    "                    idx += 1\n",
    "                except: \n",
    "                    print \"Unexpected error:\", sys.exc_info()[0]\n",
    "                    raise SystemError(sys.exc_info()[0])\n",
    "                \n",
    "    def save(self):\n",
    "        \"\"\"Saves the test data object.  This will call the filename property\n",
    "        in order to grab the class, image id, and image_props object.  Since\n",
    "        this calls `filename`, an instance of the default image_props object\n",
    "        is created if there isn't one\"\"\"\n",
    "        if self._image and not self._saved:\n",
    "            self._image.save(unicode(self._filename + \".png\"))\n",
    "            self._saved = True\n",
    "            print(\"SAVED IMAGE\")\n",
    "        elif self._saved:\n",
    "            print(\"Already saved this image - overwriting not implemented\")\n",
    "        else:\n",
    "            raise IOError(\"Unable to save image file - it doesn't exist!  Add a PIL Image object\")\n",
    "\n",
    "    def __str__(self):\n",
    "        attrs = vars(self)\n",
    "        desc = '\\n'.join(\"%s: %s\" % item for item in attrs.items())\n",
    "        return desc\n",
    "        "
   ]
  },
  {
   "cell_type": "markdown",
   "metadata": {},
   "source": [
    "## Helper Function"
   ]
  },
  {
   "cell_type": "markdown",
   "metadata": {},
   "source": [
    "`find_coeffs` is a helpful method to allow us to find the 4 points\n",
    "of a plane in order to perform transformations."
   ]
  },
  {
   "cell_type": "code",
   "execution_count": null,
   "metadata": {},
   "outputs": [],
   "source": [
    "# NOT USED - but could be used to do pixel level manipulation\n",
    "# useful for doing perspective mapping.\n",
    "def find_coeffs(pa, pb):\n",
    "    matrix = []\n",
    "    for p1, p2 in zip(pa, pb):\n",
    "        matrix.append([p1[0], p1[1], 1, 0, 0, 0, -p2[0]*p1[0], -p2[0]*p1[1]])\n",
    "        matrix.append([0, 0, 0, p1[0], p1[1], 1, -p2[1]*p1[0], -p2[1]*p1[1]])\n",
    "\n",
    "    A = numpy.matrix(matrix, dtype=numpy.float)\n",
    "    B = numpy.array(pb).reshape(8)\n",
    "\n",
    "    res = numpy.dot(numpy.linalg.inv(A.T * A) * A.T, B)\n",
    "    return numpy.array(res).reshape(8)\n"
   ]
  },
  {
   "cell_type": "markdown",
   "metadata": {},
   "source": [
    "`create_letter` takes in a number of arguments and generates\n",
    "an image with centered text based on its input described here:\n",
    "* `props` - ImageProps object\n",
    "* `text` - text to write to imaage (character)"
   ]
  },
  {
   "cell_type": "code",
   "execution_count": null,
   "metadata": {},
   "outputs": [],
   "source": [
    "@accepts(str, ImageProps)\n",
    "@returns(Image.Image)\n",
    "def create_image(text='A', props=None):\n",
    "    \"\"\"Create an image.  Takes an instance of `ImageProps` and returns an image.\n",
    "    This method does not save the image, but simply generates it for pipeline\n",
    "    management.\"\"\"\n",
    "    if not props or not isinstance(props, ImageProps):\n",
    "        raise TypeError(\"Props cannot be null and must be of type `ImageProps`\")\n",
    "    \n",
    "    font_file = props.font\n",
    "    font_size = props.font_size\n",
    "    font_color = props.text_color\n",
    "    image_size = props.size\n",
    "    background_color = props.background_color\n",
    "    \n",
    "    #font  =  ImageFont.truetype ( font_path + font_name + \".ttf\", font_size )\n",
    "    font  =  ImageFont.truetype ( font_file, font_size )\n",
    "    # Create the image with size and background options\n",
    "    im  =  Image.new ( \"RGBA\", image_size, background_color )\n",
    "    # Creat drawing context\n",
    "    draw  =  ImageDraw.Draw ( im )\n",
    "    # Attempt to center the font inside the background canvas\n",
    "    text_x, text_y = font.getsize(text)\n",
    "    width, height = image_size\n",
    "    x = (width - text_x)/2\n",
    "    y = (height - text_y)/2\n",
    "    \n",
    "    # Write the text ont h\n",
    "    draw.text ( (x,y), text, font=font, fill=font_color )\n",
    "    return im"
   ]
  },
  {
   "cell_type": "markdown",
   "metadata": {},
   "source": [
    "`name_image` takes in a number of arguments and generates\n",
    "an unicode file name of the final image.  This should b run last\n",
    "* `klass` - classification number that correspondes to class used in `ocr.csv`\n",
    "* `image_id` - autogenerated image id \n",
    "* `transform` - type of modification to image for easy reference\n",
    "* `folder` - where the files should be stored"
   ]
  },
  {
   "cell_type": "code",
   "execution_count": null,
   "metadata": {},
   "outputs": [],
   "source": [
    "@accepts(int, int, str, str)\n",
    "@returns(unicode)\n",
    "def name_image(klass,\n",
    "               image_id,\n",
    "               transform,\n",
    "               folder='.'):\n",
    "    return unicode(\"{0}/{1}-{2}-{3}.png\".format(folder, klass, image_id, transform))"
   ]
  },
  {
   "cell_type": "markdown",
   "metadata": {
    "collapsed": true
   },
   "source": [
    "### Supporting Classes"
   ]
  },
  {
   "cell_type": "markdown",
   "metadata": {},
   "source": [
    "`FontProps` is a convenience class that provides properties to use in transforming images objects. \n",
    "It should be injected into the `ImageGenerator` or an `ImageProps` object."
   ]
  },
  {
   "cell_type": "code",
   "execution_count": null,
   "metadata": {},
   "outputs": [],
   "source": [
    "class FontProps(object):\n",
    "    \"\"\"A convenience class that provides properties to use modifying fonts for images objects\"\"\"\n",
    "    def __init__(self,\n",
    "                 color=(255,255,255,255),\n",
    "                 size=27,\n",
    "                 font_file=unicode(\"/System/Library/Fonts/HelveticaNeue.ttc\"),\n",
    "                ):\n",
    "        self._color = color\n",
    "        self._size = size\n",
    "        self._font_file = font_file\n",
    "\n",
    " \n",
    "    def __eq__(self, other):\n",
    "        \"\"\"Overrides the default implementation\"\"\"\n",
    "        if isinstance(self, other.__class__):\n",
    "            return self.__dict__ == other.__dict__\n",
    "        return False\n",
    "\n",
    "    def __ne__(self, other):\n",
    "        \"\"\"Overrides the default implementation (unnecessary in Python 3)\"\"\"\n",
    "        return not self.__eq__(other)\n",
    "    \n",
    "    @property\n",
    "    def color(self):\n",
    "        return self._color\n",
    "    \n",
    "    @property\n",
    "    def size(self):\n",
    "        return self._size\n",
    "    \n",
    "    @property\n",
    "    def font_file(self):\n",
    "        return self._font_file\n",
    "    \n",
    "    def __str__(self):\n",
    "        attrs = vars(self)\n",
    "        return '\\n'.join(\"%s: %s\" % item for item in attrs.items())\n",
    "    "
   ]
  },
  {
   "cell_type": "markdown",
   "metadata": {},
   "source": [
    "`ImageProps` is a convenience class that provides properties to use in transforming images objects. \n",
    "It should be injected into the `ImageGenerator` object."
   ]
  },
  {
   "cell_type": "code",
   "execution_count": null,
   "metadata": {},
   "outputs": [],
   "source": [
    "class ImageProps(object):\n",
    "    \"\"\"A convenience class that provides properties to use in transforming images objects\"\"\"\n",
    "    def __init__(self,\n",
    "                 name='original',\n",
    "                 font_props=FontProps(),\n",
    "                 rotation=0,\n",
    "                 background_color=(255,255,255,255),\n",
    "                 contrast=1.0,\n",
    "                 brightness=1.0,\n",
    "                 color_adjust=1.0,\n",
    "                 sharpness=1.0,\n",
    "                 size=(28, 28),\n",
    "                ):\n",
    "        self._name = name\n",
    "        self._rotation = rotation\n",
    "        self._background_color = background_color\n",
    "        self._contrast = contrast\n",
    "        self._color_adjust = color_adjust\n",
    "        self._sharpness = sharpness\n",
    "        self._brightness = brightness\n",
    "        self._size = size\n",
    "\n",
    " \n",
    "    def __eq__(self, other):\n",
    "        \"\"\"Overrides the default implementation\"\"\"\n",
    "        if isinstance(self, other.__class__):\n",
    "            return self.__dict__ == other.__dict__\n",
    "        return False\n",
    "\n",
    "    def __ne__(self, other):\n",
    "        \"\"\"Overrides the default implementation (unnecessary in Python 3)\"\"\"\n",
    "        return not self.__eq__(other)\n",
    "    \n",
    "    @property\n",
    "    def name(self):\n",
    "        return self._name\n",
    "    \n",
    "    @property\n",
    "    def rotation(self):\n",
    "        return self._rotation\n",
    "    \n",
    "#     @rotation.setter\n",
    "#     def rotation(self, value):\n",
    "#         self._rotation = value\n",
    "    \n",
    "    @property\n",
    "    def font(self):\n",
    "        return self._font_props\n",
    "    \n",
    "    @property\n",
    "    def text_color(self):\n",
    "        return self._font_props.color\n",
    "    \n",
    "#     @text_color.setter\n",
    "#     def text_color(self, value):\n",
    "#         self._text_color = value\n",
    "    \n",
    "    @property\n",
    "    def background_color(self):\n",
    "        return self._background_color\n",
    "    \n",
    "#     @background_color.setter\n",
    "#     def background_color(self, value):\n",
    "#         self._background_color = value\n",
    "    \n",
    "    @property\n",
    "    def contrast(self):\n",
    "        return self._contrast\n",
    "    \n",
    "#     @contrast.setter\n",
    "#     def contrast(self, value):\n",
    "#         self._contrast = value\n",
    "    \n",
    "    @property\n",
    "    def sharpness(self):\n",
    "        return self._sharpness\n",
    "    \n",
    "#     @sharpness.setter\n",
    "#     def sharpness(self, value):\n",
    "#         self._sharpness = value\n",
    "    \n",
    "    @property\n",
    "    def brightness(self):\n",
    "        return self._brightness\n",
    "    \n",
    "#     @brightness.setter\n",
    "#     def brightness(self, value):\n",
    "#         self._brightness = value\n",
    "    \n",
    "    @property\n",
    "    def color_adjust(self):\n",
    "        return self._color_adjust\n",
    "    \n",
    "#     @color.setter\n",
    "#     def color(self, value):\n",
    "#         return self._color\n",
    "    \n",
    "    @property\n",
    "    def size(self):\n",
    "        return self._size\n",
    "    \n",
    "#     @size.setter\n",
    "#     def size(self, value):\n",
    "#         return self._size\n",
    "    \n",
    "    def __str__(self):\n",
    "        attrs = vars(self)\n",
    "        return '\\n'.join(\"%s: %s\" % item for item in attrs.items())\n",
    "    \n"
   ]
  },
  {
   "cell_type": "markdown",
   "metadata": {},
   "source": [
    "**&nbsp; &nbsp; 1. First we create a Font Property object and an Image Property object**\n",
    "\n",
    "This will default to a black text, white background, no rotation, and\n",
    "a file suffix of `original`. "
   ]
  },
  {
   "cell_type": "code",
   "execution_count": null,
   "metadata": {},
   "outputs": [],
   "source": [
    "default_font_props = FontProps()\n",
    "default_image_props = ImageProps()\n",
    "print(default_image_props)"
   ]
  },
  {
   "cell_type": "markdown",
   "metadata": {},
   "source": [
    "Lets test to see if we can set any props:\n",
    "\n",
    "**`Note:` `name` should be immutable!**"
   ]
  },
  {
   "cell_type": "code",
   "execution_count": null,
   "metadata": {},
   "outputs": [],
   "source": [
    "# default_image_props.name = 'bob' #  AttributeError can't set attribute\n",
    "# default_image_props.color = 'black' # AttributeError can't set attribut\n",
    "default_image_props.name"
   ]
  },
  {
   "cell_type": "markdown",
   "metadata": {},
   "source": [
    "We have to initialize the object with our values.  This will encourage\n",
    "a declaritve approach to our image processing, while providing some\n",
    "immutability to ensure we are getting the props we desire."
   ]
  },
  {
   "cell_type": "code",
   "execution_count": null,
   "metadata": {},
   "outputs": [],
   "source": [
    "myprops = ImageProps('rotate_90',\n",
    "                     background_color=(185,255,185,255),\n",
    "                     rotation=30)"
   ]
  },
  {
   "cell_type": "markdown",
   "metadata": {},
   "source": [
    "Here are the **NEW** attributes *after* modifications:"
   ]
  },
  {
   "cell_type": "code",
   "execution_count": null,
   "metadata": {},
   "outputs": [],
   "source": [
    "print(myprops)"
   ]
  },
  {
   "cell_type": "markdown",
   "metadata": {},
   "source": [
    "**&nbsp; &nbsp; 2. Then we create our Test Data object**\n",
    "\n",
    "We initialize it with our `image_props` object."
   ]
  },
  {
   "cell_type": "code",
   "execution_count": null,
   "metadata": {},
   "outputs": [],
   "source": [
    "data = ImageGenerator(text='C', klass=1, image_id=2, image_props=myprops)\n",
    "# data = ImageGenerator(image_props=default_image_props) # Error! cannot add same image_props to ImageGenerator"
   ]
  },
  {
   "cell_type": "code",
   "execution_count": null,
   "metadata": {},
   "outputs": [],
   "source": [
    "print(data)"
   ]
  },
  {
   "cell_type": "markdown",
   "metadata": {},
   "source": [
    "Note that when we call the `filename property` it updates it.  "
   ]
  },
  {
   "cell_type": "code",
   "execution_count": null,
   "metadata": {},
   "outputs": [],
   "source": [
    "print(data.filename)"
   ]
  },
  {
   "cell_type": "code",
   "execution_count": null,
   "metadata": {},
   "outputs": [],
   "source": [
    "print(data.saved)"
   ]
  },
  {
   "cell_type": "markdown",
   "metadata": {},
   "source": [
    "The following will error out due to the fact that we don't \n",
    "allow a `ImageGenerator object` to be initialized with the same image_props."
   ]
  },
  {
   "cell_type": "code",
   "execution_count": null,
   "metadata": {},
   "outputs": [],
   "source": [
    "# data.image_props = default_image_props"
   ]
  },
  {
   "cell_type": "markdown",
   "metadata": {},
   "source": [
    "Now our `filename` property in our `ImageGenerator` object *data* should be updated as well:  "
   ]
  },
  {
   "cell_type": "code",
   "execution_count": null,
   "metadata": {},
   "outputs": [],
   "source": [
    "print(data)"
   ]
  },
  {
   "cell_type": "markdown",
   "metadata": {},
   "source": [
    "Lets try to save some data:"
   ]
  },
  {
   "cell_type": "code",
   "execution_count": null,
   "metadata": {},
   "outputs": [],
   "source": [
    "print(dir(ImageProps))\n"
   ]
  },
  {
   "cell_type": "code",
   "execution_count": null,
   "metadata": {},
   "outputs": [],
   "source": [
    "# data.save() # IOError! No image"
   ]
  },
  {
   "cell_type": "markdown",
   "metadata": {},
   "source": [
    "We can't save the file because we haven't added an image yet. The\n",
    "following error will show up:"
   ]
  },
  {
   "cell_type": "markdown",
   "metadata": {},
   "source": [
    "```IOError: Unable to save image file - it doesn't exist!  Add a PIL Image object```"
   ]
  },
  {
   "cell_type": "markdown",
   "metadata": {},
   "source": [
    "**&nbsp; &nbsp; 3. We now want to set some properties**\n",
    "\n",
    "Lets initialize our test_data with a default image property object.\n",
    "This will give us no tranformation objects. Here is a look at the \n",
    "default properties:"
   ]
  },
  {
   "cell_type": "code",
   "execution_count": null,
   "metadata": {},
   "outputs": [],
   "source": [
    "print(myprops)"
   ]
  },
  {
   "cell_type": "code",
   "execution_count": null,
   "metadata": {},
   "outputs": [],
   "source": [
    "font_props = FontProps()\n",
    "print(font_props)"
   ]
  },
  {
   "cell_type": "code",
   "execution_count": null,
   "metadata": {},
   "outputs": [],
   "source": [
    "\n",
    "\n",
    "test_props = ImageProps('background',\n",
    "                        background_color=(12,145,234,255),\n",
    "                        font_props=font_props,\n",
    "                        contrast=0.25\n",
    "                       )\n",
    "\n",
    "test_data = ImageGenerator(image_props=test_props)\n",
    "print(test_data)"
   ]
  },
  {
   "cell_type": "markdown",
   "metadata": {
    "collapsed": true
   },
   "source": [
    "### Supported Characters"
   ]
  },
  {
   "cell_type": "markdown",
   "metadata": {},
   "source": [
    "Currently the character set supported is `[a-z, A-Z, 0-9, '\\'', '\\,']`"
   ]
  },
  {
   "cell_type": "code",
   "execution_count": null,
   "metadata": {},
   "outputs": [],
   "source": [
    "uppercase=[ 'A', 'B', 'C', 'D', 'E', 'F', 'G', 'H', 'I', 'J', 'K', 'L', 'M', 'N', 'O', 'P', 'Q', 'R', 'S', 'T', 'U', 'V', 'W', 'X', 'Y', 'Z' ]\n",
    "lowercase=[ 'a', 'b', 'c', 'd', 'e', 'f', 'g', 'h', 'i', 'j', 'k', 'l', 'm', 'n', 'o', 'p', 'q', 'r', 's', 't', 'u', 'v', 'w', 'x', 'y', 'z' ]\n",
    "numbers=[ 0, 1, 2, 3, 4, 5, 6, 7, 8, 9 ]\n",
    "characters=[ \"'\", \",\" ]\n",
    "test_characters = uppercase + lowercase + numbers + characters"
   ]
  },
  {
   "cell_type": "markdown",
   "metadata": {},
   "source": [
    "### CSV Setup"
   ]
  },
  {
   "cell_type": "markdown",
   "metadata": {},
   "source": [
    "This is used to map classification of the images to the actual image.  We create the file `ocr.csv` and make it writeable:"
   ]
  },
  {
   "cell_type": "code",
   "execution_count": null,
   "metadata": {},
   "outputs": [],
   "source": [
    "myfile = open('ocr.csv','w') \n",
    "myfile.write(\"Class\")"
   ]
  },
  {
   "cell_type": "markdown",
   "metadata": {},
   "source": [
    "### Load fonts"
   ]
  },
  {
   "cell_type": "markdown",
   "metadata": {},
   "source": [
    "We want to check and see what fonts are available:"
   ]
  },
  {
   "cell_type": "code",
   "execution_count": null,
   "metadata": {},
   "outputs": [],
   "source": [
    "fonts = fontconfig.query( lang='en' )"
   ]
  },
  {
   "cell_type": "code",
   "execution_count": null,
   "metadata": {},
   "outputs": [],
   "source": [
    "### Check if font has character"
   ]
  },
  {
   "cell_type": "markdown",
   "metadata": {},
   "source": [
    "## Clean up fonts"
   ]
  },
  {
   "cell_type": "markdown",
   "metadata": {},
   "source": [
    "The following fonts seemed to break my proces due to the unicode character\n",
    "sets.  "
   ]
  },
  {
   "cell_type": "code",
   "execution_count": null,
   "metadata": {},
   "outputs": [],
   "source": [
    "try:\n",
    "    fonts.remove(u\"/System/Library/Fonts/ヒラギノ角ゴシック W0.ttc\")\n",
    "    fonts.remove(u\"/System/Library/Fonts/ヒラギノ明朝 ProN.ttc\")\n",
    "    fonts.remove(u\"/System/Library/Fonts/ヒラギノ明朝 ProN.ttc\")\n",
    "    fonts.remove(u\"/System/Library/Fonts/ヒラギノ丸ゴ ProN W4.ttc\")\n",
    "    fonts.remove(u\"/System/Library/Fonts/ヒラギノ丸ゴ ProN W4.ttc\")\n",
    "    fonts.remove(u\"/System/Library/Fonts/ヒラギノ角ゴシック W1.ttc\")\n",
    "    fonts.remove(u\"/System/Library/Fonts/ヒラギノ角ゴシック W2.ttc\")\n",
    "    fonts.remove(u\"/System/Library/Fonts/ヒラギノ角ゴシック W3.ttc\")\n",
    "    fonts.remove(u\"/System/Library/Fonts/ヒラギノ角ゴシック W3.ttc\")\n",
    "    fonts.remove(u\"/System/Library/Fonts/ヒラギノ角ゴシック W4.ttc\")\n",
    "    fonts.remove(u\"/System/Library/Fonts/ヒラギノ角ゴシック W5.ttc\")\n",
    "    fonts.remove(u\"/System/Library/Fonts/ヒラギノ角ゴシック W6.ttc\")\n",
    "    fonts.remove(u\"/System/Library/Fonts/ヒラギノ角ゴシック W6.ttc\")\n",
    "    fonts.remove(u\"/System/Library/Fonts/ヒラギノ角ゴシック W7.ttc\") \n",
    "    fonts.remove(u\"/System/Library/Fonts/ヒラギノ角ゴシック W8.ttc\")\n",
    "    fonts.remove(u\"/System/Library/Fonts/ヒラギノ角ゴシック W8.ttc\")\n",
    "    fonts.remove(u\"/System/Library/Fonts/ヒラギノ角ゴシック W9.ttc\")\n",
    "except ValueError:\n",
    "    pass # or scream: thing not in some_list!\n",
    "except AttributeError:\n",
    "    print \"Unexpected error:\", sys.exc_info()[0]\n",
    "    pass"
   ]
  },
  {
   "cell_type": "markdown",
   "metadata": {},
   "source": [
    "#### Available fonts"
   ]
  },
  {
   "cell_type": "markdown",
   "metadata": {},
   "source": [
    "The following number is how many fonts are available to be processed:"
   ]
  },
  {
   "cell_type": "code",
   "execution_count": null,
   "metadata": {},
   "outputs": [],
   "source": [
    "len(fonts)"
   ]
  },
  {
   "cell_type": "markdown",
   "metadata": {},
   "source": [
    "#### Display fonts"
   ]
  },
  {
   "cell_type": "code",
   "execution_count": null,
   "metadata": {},
   "outputs": [],
   "source": [
    "#for font in fonts:\n",
    " #   print(font)"
   ]
  },
  {
   "cell_type": "markdown",
   "metadata": {},
   "source": [
    "## Test image"
   ]
  },
  {
   "cell_type": "markdown",
   "metadata": {},
   "source": [
    "##### Setup"
   ]
  },
  {
   "cell_type": "markdown",
   "metadata": {},
   "source": [
    "We create a 28x28 image and also chose colors and font:\n",
    "* `width` - width of image\n",
    "* `height` - height of image\n",
    "* `font_size` - size of font\n",
    "* `image_size` - tuple, we want a 28x28 pixel image to process\n",
    "* `background_color` - color behind text\n",
    "* `text_color` - color of text\n",
    "* `font_file` - location of font\n",
    "* `transform` - type of transform - defaults to 'orig'"
   ]
  },
  {
   "cell_type": "code",
   "execution_count": null,
   "metadata": {},
   "outputs": [],
   "source": [
    "image_props = ImageProps(font_props)\n",
    "\n",
    "print(image_props)\n",
    "transform = 'normal'\n",
    "folder = 'data'"
   ]
  },
  {
   "cell_type": "markdown",
   "metadata": {},
   "source": [
    "##### Sample Character and initialize indexes for naming conventions"
   ]
  },
  {
   "cell_type": "code",
   "execution_count": null,
   "metadata": {},
   "outputs": [],
   "source": [
    "cls = 0\n",
    "idx = 0\n",
    "transform = 'orig'"
   ]
  },
  {
   "cell_type": "markdown",
   "metadata": {},
   "source": [
    "## Generate Images"
   ]
  },
  {
   "cell_type": "markdown",
   "metadata": {},
   "source": [
    "##### Helper function"
   ]
  },
  {
   "cell_type": "code",
   "execution_count": null,
   "metadata": {},
   "outputs": [],
   "source": [
    "@accepts(ImageProps, int, str, str)\n",
    "def generate_image(image_props=None):\n",
    "    if not folder:\n",
    "        folder='data'\n",
    "    #\n",
    "    # Create image\n",
    "    #\n",
    "    orig_img = create_image(\n",
    "        font_file,\n",
    "        font_size,\n",
    "        text_color,\n",
    "        image_size,\n",
    "        background,\n",
    "        text\n",
    "    )\n",
    "    rotate = int(rotate)\n",
    "    if rotate != 0:\n",
    "        orig_img = orig_img.rotate(rotate)\n",
    "    #\n",
    "    # Save Image\n",
    "    #\n",
    "    orig_img.save(name_image(klass, image_id, transform, folder))\n",
    "    return orig_img\n",
    "    "
   ]
  },
  {
   "cell_type": "markdown",
   "metadata": {},
   "source": [
    "*Loop through fonts*"
   ]
  },
  {
   "cell_type": "markdown",
   "metadata": {},
   "source": [
    "**Uncomment - for testing only!!!**"
   ]
  },
  {
   "cell_type": "code",
   "execution_count": null,
   "metadata": {},
   "outputs": [],
   "source": [
    "test_characters = ['A']"
   ]
  },
  {
   "cell_type": "markdown",
   "metadata": {},
   "source": [
    "### Filters"
   ]
  },
  {
   "cell_type": "markdown",
   "metadata": {},
   "source": [
    "Filters allow us to alter the image to create more test sets:"
   ]
  },
  {
   "cell_type": "markdown",
   "metadata": {},
   "source": [
    "`generateFilteredBlureImages` - Generates an image with Gaussian Blur with specified radius:"
   ]
  },
  {
   "cell_type": "code",
   "execution_count": null,
   "metadata": {},
   "outputs": [],
   "source": [
    "def generateFilteredGuassianBlurImage(image, cls, idx):\n",
    "    radius = 1\n",
    "    filter = ImageFilter.GaussianBlur(radius)\n",
    "    img = image.filter(filter)\n",
    "    img.save(name_image(cls, idx, 'g-blur', 'data'))"
   ]
  },
  {
   "cell_type": "markdown",
   "metadata": {},
   "source": [
    "`generateFilteredBoxBlurImage` - Generates an image with Box Blur and specified radius:"
   ]
  },
  {
   "cell_type": "code",
   "execution_count": null,
   "metadata": {},
   "outputs": [],
   "source": [
    "## only available in Pillow 4.3\n",
    "def generateFilteredBoxBlurImage(image, cls, idx):\n",
    "    radius = 5\n",
    "    filter = ImageFilter.BoxBlur(radius)\n",
    "    img = image.filter(filter)\n",
    "    img.save(name_image(cls, idx, 'box-blur', 'data'))"
   ]
  },
  {
   "cell_type": "markdown",
   "metadata": {
    "collapsed": true
   },
   "source": [
    "`generateEnhancedColorImages` - Generates an image with varying color level:"
   ]
  },
  {
   "cell_type": "code",
   "execution_count": null,
   "metadata": {},
   "outputs": [],
   "source": [
    "# not useful on black and white images\n",
    "def generateEnhancedColorImage(image, cls, idx, factor):\n",
    "    enhancer = ImageEnhance.Color(image)\n",
    "    factor = 0.25\n",
    "    img = enhancer.enhance(factor)\n",
    "    img.save(name_image(cls, idx, 'color', 'data'))"
   ]
  },
  {
   "cell_type": "markdown",
   "metadata": {},
   "source": [
    "`generateEhancedContrastedImage` - Generates an image with varying contrast level:"
   ]
  },
  {
   "cell_type": "code",
   "execution_count": null,
   "metadata": {},
   "outputs": [],
   "source": [
    "def generateEhancedContrastedImage(image, cls, idx, factor):\n",
    "    enhancer = ImageEnhance.Contrast(image)\n",
    "    # (0.0...1.0)\n",
    "    factor = 0.\n",
    "    img = enhancer.enhance(factor)\n",
    "    img.save(name_image(cls, idx, 'contrast', 'data'))\n",
    "        "
   ]
  },
  {
   "cell_type": "markdown",
   "metadata": {},
   "source": [
    "`generateRotatedImages` - generate rotated images from an image:"
   ]
  },
  {
   "cell_type": "code",
   "execution_count": null,
   "metadata": {},
   "outputs": [],
   "source": [
    "def generateRotatedImage(image, cls, idx, degrees=0):\n",
    "    img = image.rotate(degrees); \n",
    "    img.save(name_image(cls, idx, 'rotate_' + str(degrees), 'data'))"
   ]
  },
  {
   "cell_type": "markdown",
   "metadata": {},
   "source": [
    "## MAIN - Process Images"
   ]
  },
  {
   "cell_type": "code",
   "execution_count": null,
   "metadata": {},
   "outputs": [],
   "source": [
    "#\n",
    "# Cycle through fonts\n",
    "#\n",
    "print(test_characters)\n",
    "for font in fonts:\n",
    "    #\n",
    "    # Cycle through upper case characters\n",
    "    # and set the cls to 0\n",
    "    #\n",
    "    cls = 0\n",
    "    for val in test_characters:\n",
    "        try:\n",
    "            # Generate initial image - no rotation\n",
    "            orig = generate_image(str(val), unicode(str(font)), cls, idx, 'orig', 0, 'data', '#FFFFFF')\n",
    "             # Generate 7 images\n",
    "#             deg = 45;\n",
    "#             for i in range(7):\n",
    "#                 generateRotatedImage(orig, cls, idx, deg)\n",
    "#                 deg = 45 + (45 * (i + 1))\n",
    "                \n",
    "#             generateFilteredGuassianBlurImage(orig, cls, idx)\n",
    "#             generateEnhancedColorImage(orig, cls, idx)\n",
    "#             generateEhancedContrastedImage(orig, cls, idx)\n",
    "\n",
    "\n",
    "            #generate_image(str(val), unicode(str(font)), cls, idx, 'dark', 270, 'data','#000000')\n",
    "            cls += 1\n",
    "            idx += 1\n",
    "        except: \n",
    "            print \"Unexpected error:\", sys.exc_info()[0]\n",
    "            print(font)\n",
    "            print(val) \n",
    "            raise"
   ]
  },
  {
   "cell_type": "markdown",
   "metadata": {},
   "source": [
    "*Check if character exists in this font*"
   ]
  },
  {
   "cell_type": "code",
   "execution_count": null,
   "metadata": {},
   "outputs": [],
   "source": []
  },
  {
   "cell_type": "markdown",
   "metadata": {},
   "source": [
    "*If it exists, then generate image*"
   ]
  },
  {
   "cell_type": "code",
   "execution_count": null,
   "metadata": {},
   "outputs": [],
   "source": []
  },
  {
   "cell_type": "code",
   "execution_count": null,
   "metadata": {},
   "outputs": [],
   "source": [
    "import numpy\n",
    "\n",
    "def generate_letter(contrast_energy = .01, #michelson contrast energy\n",
    "                   noise = 30,\n",
    "                   bg_luminance = 128,\n",
    "                   letter = \"a\",\n",
    "                   letter_size = 28):\n",
    "    N = 28 #size of image in pixels\n",
    "    #first figure out what is the ink-area of the letter\n",
    "    font = ImageFont.truetype(\"/System/Library/Fonts/HelveticaNeue.ttc\", letter_size)\n",
    "    #we copy the .ttf file to the local directory to avoid problems\n",
    "    im_temp = Image.new(\"1\", (1,1), 0)\n",
    "    draw = ImageDraw.Draw(im_temp)\n",
    "    #now we can draw on this\n",
    "\n",
    "    sz = draw.textsize(letter, font=font)\n",
    "    # this tells us the size of the letter\n",
    "    im_temp = Image.new(\"1\", sz, 0)\n",
    "    #this is a temporary binary image created solely for the purpose of computing\n",
    "    #the ink-area of the letter\n",
    "    draw = ImageDraw.Draw(im_temp)\n",
    "    #now we can draw on this\n",
    "    draw.text((0,0), letter, font=font, fill=1)\n",
    "    pix = im_temp.load()\n",
    "    #pix is now an addressable array of pixel values\n",
    "    area_in_pixels = 0.\n",
    "    for row in xrange(sz[0]):\n",
    "        for col in xrange(sz[1]):\n",
    "            area_in_pixels += pix[row,col]\n",
    "\n",
    "    #since contrast_energy = contrast^2 * pixel_area\n",
    "    contrast = (contrast_energy/area_in_pixels)**0.5\n",
    "    fg_luminance = bg_luminance*(1+contrast)/(1-contrast)\n",
    "    print area_in_pixels\n",
    "    print contrast\n",
    "    print fg_luminance\n",
    "\n",
    "\n",
    "    im = Image.new(\"L\", (N,N), bg_luminance)\n",
    "    #im is now a NxN luminance image with luminance set to bg_luminance\n",
    "\n",
    "    draw = ImageDraw.Draw(im)\n",
    "    #now we can draw on this\n",
    "\n",
    "    draw.text(((N-sz[0])/2, (N-sz[1])/2), letter, font=font, fill=1)\n",
    "    #this centers the letter\n",
    "\n",
    "    if noise > 0:\n",
    "        pix = im.load()\n",
    "    #pix is now an addressable array of pixel values\n",
    "\n",
    "    rd = numpy.random.normal(scale=noise, size=(N,N))\n",
    "    print(rd)\n",
    "    for row in xrange(N):\n",
    "        for col in xrange(N):\n",
    "            print(col)\n",
    "            pix[row,col] += rd[row,col)]\n",
    "    "
   ]
  },
  {
   "cell_type": "code",
   "execution_count": null,
   "metadata": {},
   "outputs": [],
   "source": [
    "generate_letter(.01,\n",
    "                30,\n",
    "                128,\n",
    "                \"a\",\n",
    "                28)"
   ]
  },
  {
   "cell_type": "markdown",
   "metadata": {},
   "source": [
    "### Cleanup and exit"
   ]
  },
  {
   "cell_type": "markdown",
   "metadata": {},
   "source": [
    "### Close file"
   ]
  },
  {
   "cell_type": "code",
   "execution_count": null,
   "metadata": {},
   "outputs": [],
   "source": [
    "myfile.close()"
   ]
  },
  {
   "cell_type": "markdown",
   "metadata": {},
   "source": [
    "### Read File"
   ]
  },
  {
   "cell_type": "code",
   "execution_count": null,
   "metadata": {},
   "outputs": [],
   "source": [
    "f = open(\"ocr.csv\",\"r\") "
   ]
  },
  {
   "cell_type": "code",
   "execution_count": null,
   "metadata": {},
   "outputs": [],
   "source": [
    "file_contents = f.read()"
   ]
  },
  {
   "cell_type": "markdown",
   "metadata": {},
   "source": [
    "### Output of file"
   ]
  },
  {
   "cell_type": "code",
   "execution_count": null,
   "metadata": {},
   "outputs": [],
   "source": [
    "print(file_contents)"
   ]
  }
 ],
 "metadata": {
  "kernelspec": {
   "display_name": "Python 2",
   "language": "python",
   "name": "python2"
  },
  "language_info": {
   "codemirror_mode": {
    "name": "ipython",
    "version": 2
   },
   "file_extension": ".py",
   "mimetype": "text/x-python",
   "name": "python",
   "nbconvert_exporter": "python",
   "pygments_lexer": "ipython2",
   "version": "2.7.13"
  }
 },
 "nbformat": 4,
 "nbformat_minor": 2
}
